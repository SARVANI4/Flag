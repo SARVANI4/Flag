{
 "cells": [
  {
   "cell_type": "code",
   "execution_count": 1,
   "metadata": {},
   "outputs": [],
   "source": [
    "import turtle\n",
    "ws=turtle.Screen()\n",
    "flagTurtle=turtle.Turtle()\n",
    "flagTurtle.penup()\n",
    "flagTurtle.goto(-180,60)\n",
    "flagTurtle.pendown()\n",
    "flagTurtle.begin_fill()\n"
   ]
  },
  {
   "cell_type": "code",
   "execution_count": 2,
   "metadata": {},
   "outputs": [],
   "source": [
    "flagTurtle.fillcolor(\"orange\")    # for 1st rectangle\n",
    "flagTurtle.left(90)\n",
    "flagTurtle.forward(90)\n",
    "flagTurtle.right(90)\n",
    "flagTurtle.forward(400)\n",
    "flagTurtle.right(90)\n",
    "flagTurtle.forward(90)\n",
    "flagTurtle.right(90)\n",
    "flagTurtle.forward(400)\n",
    "flagTurtle.end_fill()"
   ]
  },
  {
   "cell_type": "code",
   "execution_count": 3,
   "metadata": {},
   "outputs": [],
   "source": [
    "flagTurtle.left(90)            #for second rectangle\n",
    "flagTurtle.forward(90)\n",
    "flagTurtle.left(90)\n",
    "flagTurtle.forward(400)\n",
    "flagTurtle.left(90)\n",
    "flagTurtle.forward(90)\n",
    "flagTurtle.left(90)\n",
    "flagTurtle.forward(400)\n",
    "flagTurtle.left(90)\n",
    "flagTurtle.forward(90)"
   ]
  },
  {
   "cell_type": "code",
   "execution_count": 4,
   "metadata": {},
   "outputs": [],
   "source": [
    "flagTurtle.begin_fill()              # for 3rd rectangle\n",
    "flagTurtle.fillcolor(\"green\")\n",
    "flagTurtle.forward(90)\n",
    "flagTurtle.left(90)\n",
    "flagTurtle.forward(400)\n",
    "flagTurtle.left(90)\n",
    "flagTurtle.forward(90)\n",
    "flagTurtle.left(90)\n",
    "flagTurtle.forward(400)\n",
    "flagTurtle.end_fill()\n"
   ]
  },
  {
   "cell_type": "code",
   "execution_count": 5,
   "metadata": {},
   "outputs": [],
   "source": [
    "flagTurtle.penup()              #for ashoka chakra\n",
    "flagTurtle.goto(23,32)\n",
    "flagTurtle.pendown()\n",
    "flagTurtle.begin_fill()\n",
    "flagTurtle.fillcolor(\"blue\")\n",
    "flagTurtle.circle(20)\n",
    "flagTurtle.end_fill()\n"
   ]
  },
  {
   "cell_type": "code",
   "execution_count": 6,
   "metadata": {},
   "outputs": [],
   "source": [
    "turtle.done()"
   ]
  },
  {
   "cell_type": "code",
   "execution_count": null,
   "metadata": {},
   "outputs": [],
   "source": []
  }
 ],
 "metadata": {
  "kernelspec": {
   "display_name": "Python 3",
   "language": "python",
   "name": "python3"
  },
  "language_info": {
   "codemirror_mode": {
    "name": "ipython",
    "version": 3
   },
   "file_extension": ".py",
   "mimetype": "text/x-python",
   "name": "python",
   "nbconvert_exporter": "python",
   "pygments_lexer": "ipython3",
   "version": "3.7.6"
  }
 },
 "nbformat": 4,
 "nbformat_minor": 4
}
